{
 "cells": [
  {
   "cell_type": "code",
   "execution_count": 5,
   "metadata": {},
   "outputs": [
    {
     "name": "stdout",
     "output_type": "stream",
     "text": [
      "True\n",
      "False\n",
      "True\n",
      "False\n"
     ]
    }
   ],
   "source": [
    "#二分查找\n",
    "def BinarySearch(alist,item):\n",
    "    #递归实现\n",
    "    n=len(alist)\n",
    "    if n>0:\n",
    "        mid=n//2\n",
    "        if alist[mid]==item:\n",
    "            return True\n",
    "        elif item<alist[mid]:\n",
    "            return BinarySearch(alist[:mid],item)\n",
    "        else:\n",
    "            return BinarySearch(alist[mid+1:],item)\n",
    "    return False\n",
    "\n",
    "\n",
    "def BinarySearch_2(alist,item):\n",
    "    #二分查找，非递归形式,通过改变列表起始下标循环进行\n",
    "    n=len(alist)\n",
    "    first=0\n",
    "    last=n-1\n",
    "    while first<=last:\n",
    "        mid=(first+last)//2\n",
    "        if alist[mid]==item:\n",
    "            return True\n",
    "        elif item<alist[mid]:\n",
    "            last=mid-1\n",
    "        else:\n",
    "            first=mid+1\n",
    "    return False\n",
    "    \n",
    "    \n",
    "    \n",
    "    \n",
    "alist=[2,4,5,6,8,9,15,26,37,39,45]\n",
    "print(BinarySearch(alist,15))\n",
    "print(BinarySearch(alist,3))\n",
    "\n",
    "print(BinarySearch_2(alist,15))\n",
    "print(BinarySearch_2(alist,3))"
   ]
  },
  {
   "cell_type": "code",
   "execution_count": null,
   "metadata": {},
   "outputs": [],
   "source": []
  }
 ],
 "metadata": {
  "kernelspec": {
   "display_name": "Python 3",
   "language": "python",
   "name": "python3"
  },
  "language_info": {
   "codemirror_mode": {
    "name": "ipython",
    "version": 3
   },
   "file_extension": ".py",
   "mimetype": "text/x-python",
   "name": "python",
   "nbconvert_exporter": "python",
   "pygments_lexer": "ipython3",
   "version": "3.6.4"
  }
 },
 "nbformat": 4,
 "nbformat_minor": 2
}
