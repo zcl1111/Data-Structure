{
 "cells": [
  {
   "cell_type": "code",
   "execution_count": 7,
   "metadata": {},
   "outputs": [
    {
     "name": "stdout",
     "output_type": "stream",
     "text": [
      "a initial :  [4, 3, 6, 2, 7, 1, 11, 9]\n",
      "a sorted :  [1, 2, 3, 4, 6, 7, 9, 11]\n"
     ]
    }
   ],
   "source": [
    "def BubbleSort(alist):\n",
    "    #最基本的冒泡排序\n",
    "    n=len(alist)\n",
    "    for j in range(0,n-1):        \n",
    "        for i in range(0,n-1-j):  #i下标为 0~ n-2\n",
    "            if alist[i] > alist[i+1]:  # 从小到大排序\n",
    "                alist[i],alist[i+1]=alist[i+1],alist[i]\n",
    "            else:\n",
    "                continue\n",
    "\n",
    "a=[4,3,6,2,7,1,11,9] \n",
    "print('a initial : ',a )\n",
    "BubbleSort(a)\n",
    "print('a sorted : ',a )"
   ]
  },
  {
   "cell_type": "code",
   "execution_count": 16,
   "metadata": {},
   "outputs": [
    {
     "name": "stdout",
     "output_type": "stream",
     "text": [
      "b initial :  [4, 3, 6, 2, 7, 1, 11, 9]\n",
      "b sorted :  [1, 2, 3, 4, 6, 7, 9, 11]\n"
     ]
    }
   ],
   "source": [
    "def BubbleSort_new(alist):\n",
    "    #冒泡排序改进，判断列表是否进行过交换顺序\n",
    "    n=len(alist)\n",
    "    for j in range(0,n-1):   \n",
    "        count=0\n",
    "        for i in range(0,n-1-j):  #i下标为 0~ n-2\n",
    "            if alist[i] > alist[i+1]:  # 从小到大排序\n",
    "                alist[i],alist[i+1]=alist[i+1],alist[i]\n",
    "                count+=1\n",
    "            else:\n",
    "                continue\n",
    "        if 0==count:\n",
    "            break\n",
    "\n",
    "b=[4,3,6,2,7,1,11,9] \n",
    "print('b initial : ',b )\n",
    "BubbleSort_new(b)\n",
    "print('b sorted : ',b )"
   ]
  },
  {
   "cell_type": "code",
   "execution_count": 17,
   "metadata": {},
   "outputs": [
    {
     "name": "stdout",
     "output_type": "stream",
     "text": [
      "b initial :  [4, 3, 6, 2, 7, 1, 11, 9]\n",
      "b sorted :  [1, 2, 3, 4, 6, 7, 9, 11]\n"
     ]
    }
   ],
   "source": [
    "#alist=[4,3,6,5,1,7,0]   n=7\n",
    "# ad    0,1,2,3,4,5,6\n",
    "def SelectSort(alist):\n",
    "    #选择排序，选择无序部分最小值排到有序部分的尾端\n",
    "    n=len(alist)\n",
    "    for j in range(0,n-1):   #j=0,1,2,...,n-2\n",
    "        min_index = j    #假设最小值的位置\n",
    "        for i in range(j+1,n):   #i=j,j+1,...,n-1\n",
    "            if alist[min_index]>alist[i]:\n",
    "                min_index=i   #找到最小值的下标\n",
    "            else:\n",
    "                continue\n",
    "        alist[j],alist[min_index]=alist[min_index],alist[j]  #内循环结束后进行交换\n",
    "\n",
    "\n",
    "b=[4,3,6,2,7,1,11,9] \n",
    "print('b initial : ',b )\n",
    "SelectSort(b)\n",
    "print('b sorted : ',b )"
   ]
  },
  {
   "cell_type": "code",
   "execution_count": 11,
   "metadata": {},
   "outputs": [
    {
     "name": "stdout",
     "output_type": "stream",
     "text": [
      "b initial :  [4, 3, 6, 2, 7, 1, 11, 9]\n",
      "b sorted :  [1, 2, 3, 4, 6, 7, 9, 11]\n"
     ]
    }
   ],
   "source": [
    "#alist=[4,3,6,5,1,7,0]   n=7\n",
    "# ad    0,1,2,3,4,5,6\n",
    "def InsertSort(alist):\n",
    "    #插入排序，选择无序部分的第一个元素插入到有序部分的正确位置（从后往前一一比较交换）\n",
    "    n=len(alist) \n",
    "    for j in range(1,n):   #j=1,2,3,...,n-1，外循环为选择的待插入的元素          \n",
    "        for i in range(j,0,-1):  #i=n-1,n-2,...,1,内循环为与有序序列元素的比较\n",
    "            if alist[i]<alist[i-1]:\n",
    "                alist[i],alist[i-1]=alist[i-1],alist[i]\n",
    "            else:\n",
    "                break\n",
    "                \n",
    "b=[4,3,6,2,7,1,11,9] \n",
    "print('b initial : ',b )\n",
    "InsertSort(b)\n",
    "print('b sorted : ',b )      "
   ]
  },
  {
   "cell_type": "code",
   "execution_count": 9,
   "metadata": {},
   "outputs": [
    {
     "name": "stdout",
     "output_type": "stream",
     "text": [
      "7\n",
      "6\n",
      "5\n",
      "4\n",
      "3\n",
      "2\n"
     ]
    }
   ],
   "source": [
    "for i in range(7,1,-1):\n",
    "    print(i)"
   ]
  },
  {
   "cell_type": "code",
   "execution_count": 14,
   "metadata": {},
   "outputs": [
    {
     "name": "stdout",
     "output_type": "stream",
     "text": [
      "b initial :  [4, 3, 6, 2, 7, 1, 11, 9, 10, 5, 8]\n",
      "b sorted :  [1, 2, 3, 4, 5, 6, 7, 8, 9, 10, 11]\n"
     ]
    }
   ],
   "source": [
    "#alist=[4,3,6,2,7,1,11,9]   n=8\n",
    "# ad    0,1,2,3,4,5,6,7\n",
    "def ShellSort(alist):\n",
    "    #希尔排序，对插入排序的改进，将整个序列按步长分为多组进行插入排序，直到步长为1\n",
    "    n=len(alist)\n",
    "    gap=n//2  #n/2的取整\n",
    "    while gap>0:\n",
    "        #与插入算法的区别就是gap步长的区别\n",
    "        for j in range(gap,n):   #j=gap,gap+1,gap+2,...,n-1从第一个间隔到最后\n",
    "            for i in range(j,0,-gap):\n",
    "                if alist[i]<alist[i-gap]:\n",
    "                    alist[i],alist[i-gap]=alist[i-gap],alist[i]\n",
    "                else:\n",
    "                    break\n",
    "        gap//=2  #缩短gap步长，直到为1\n",
    "\n",
    "b=[4,3,6,2,7,1,11,9,10,5,8] \n",
    "print('b initial : ',b )\n",
    "ShellSort(b)\n",
    "print('b sorted : ',b )                "
   ]
  },
  {
   "cell_type": "code",
   "execution_count": 2,
   "metadata": {},
   "outputs": [
    {
     "name": "stdout",
     "output_type": "stream",
     "text": [
      "b initial :  [4, 3, 6, 2, 7, 1, 11, 9, 10, 5, 8]\n",
      "b sorted :  [1, 2, 3, 4, 5, 6, 7, 8, 9, 10, 11]\n"
     ]
    }
   ],
   "source": [
    "# 快速排序\n",
    "def QuickSort(alist,first,last):\n",
    "    if first>=last:  #当递归到子序列都只有一个元素时，退出循环递归\n",
    "        return   \n",
    "    mid_value=alist[first]\n",
    "    low=first\n",
    "    high=last\n",
    "    while low<high:\n",
    "        #先进行high游标的操作,左移或者交换\n",
    "        while low<high and alist[high]>=mid_value: #high左移循环，将相等元素放在一个high子序列中\n",
    "                high-=1\n",
    "        alist[low]=alist[high]\n",
    "        \n",
    "        #再进行low游标的操作\n",
    "        while low<high and alist[low]<mid_value: #low右移循环\n",
    "                low+=1\n",
    "        alist[high]=alist[low]\n",
    "    #退出循环时high==low\n",
    "    alist[low]=mid_value\n",
    "        \n",
    "    #对low左边的序列执行快速排序\n",
    "    QuickSort(alist,first,low-1)\n",
    "    #对low右边的序列进行快速排序\n",
    "    QuickSort(alist,low+1,last)\n",
    "    \n",
    "b=[4,3,6,2,7,1,11,9,10,5,8] \n",
    "print('b initial : ',b )\n",
    "QuickSort(b,0,len(b)-1)\n",
    "print('b sorted : ',b )      \n"
   ]
  },
  {
   "cell_type": "code",
   "execution_count": 1,
   "metadata": {},
   "outputs": [
    {
     "name": "stdout",
     "output_type": "stream",
     "text": [
      "b initial :  [4, 3, 6, 2, 7, 1, 11, 9, 10, 5, 8]\n",
      "b sorted :  [1, 2, 3, 4, 5, 6, 7, 8, 9, 10, 11]\n"
     ]
    }
   ],
   "source": [
    "#归并排序\n",
    "def MergeSort(alist):\n",
    "    n=len(alist)\n",
    "    if n<=1:\n",
    "        return alist \n",
    "    mid=n//2\n",
    "    #left 采用归并排序后形成的有序的新的列表\n",
    "    left=MergeSort(alist[:mid])\n",
    "    #right 采用归并排序后形成的有序的新的列表\n",
    "    right=MergeSort(alist[mid:])\n",
    "    \n",
    "    #合并操作\n",
    "    left_pointer,right_pointer=0,0\n",
    "    result=[]\n",
    "    while left_pointer < len(left) and right_pointer<len(right):\n",
    "        if left[left_pointer] < right[right_pointer]:\n",
    "            result.append(left[left_pointer])\n",
    "            left_pointer += 1\n",
    "        else:\n",
    "            result.append(right[right_pointer])\n",
    "            right_pointer += 1\n",
    "    \n",
    "    result += left[left_pointer:]\n",
    "    result += right[right_pointer:]\n",
    "    return result\n",
    "    \n",
    "\n",
    "b = [4,3,6,2,7,1,11,9,10,5,8] \n",
    "print('b initial : ',b )\n",
    "c = MergeSort(b)\n",
    "print('b sorted : ',c ) \n",
    "\n",
    "#流程解释: b = [4,3,6,2,7,1,11,9]\n",
    "#MergeSort  [4,3,6,2,7,1,11,9]    \n",
    "#    left = MergeSort [4,3,6,2]     alist = [4,3,6,2,7,1,11,9]\n",
    "#         left = MergeSort [4,3]    alist = [4,3,6,2]\n",
    "#              left=MergeSort [4]   alist=[4,3]\n",
    "#                  return [4]\n",
    "#              right=MergeSort [3]  alist=[4,3]\n",
    "#                  return [3]\n",
    "#              result = [3,4]\n",
    "#              return result    #left=[3,4]\n",
    "#         right = MergrSort [6,2]\n",
    "#              left=MergeSort [6]   alist=[6,2]\n",
    "#                  return [6]\n",
    "#              right=MergeSort [2]  alist=[6,2]\n",
    "#                  return [2]\n",
    "#              result = [2,6]\n",
    "#              return result    #right=[2,6]\n",
    "#         result=[2,3,4,6]\n",
    "#         return result         #left=[2,3,4,6]\n",
    "#    right = MergeSort[7,1,11,9]    alist = [4,3,6,2,7,1,11,9]\n",
    "#         left = MergeSort [7,1]    alist = [7,1,11,9]\n",
    "#              left=MergeSort [7]   alist=[7,1]\n",
    "#                  return [7]       #left=7\n",
    "#              right=MergeSort [1]  alist=[7,1]\n",
    "#                  return [1]       #right=1\n",
    "#              result = [1，7] \n",
    "#              return result        #left=[1,7]\n",
    "#         right = MergrSort [11,9]\n",
    "#              left=MergeSort [11]   alist=[11,9]\n",
    "#                  return [11]\n",
    "#              right=MergeSort [9]  alist=[11,9]\n",
    "#                  return [9]\n",
    "#              result = [9,11]    \n",
    "#              return result        #right=[9,11]\n",
    "#         result=[1,7,9,11]\n",
    "#         return result                  #right=[1,7,9,11]\n",
    "#    result=[1,2,3,4,6,7,9,11]\n",
    "#    return result"
   ]
  },
  {
   "cell_type": "code",
   "execution_count": 3,
   "metadata": {},
   "outputs": [
    {
     "data": {
      "text/plain": [
       "[7, 1, 11, 9]"
      ]
     },
     "execution_count": 3,
     "metadata": {},
     "output_type": "execute_result"
    }
   ],
   "source": [
    "b = [4,3,6,2,7,1,11,9]\n",
    "c=b[:4]\n",
    "d=b[4:]\n",
    "d"
   ]
  },
  {
   "cell_type": "code",
   "execution_count": null,
   "metadata": {},
   "outputs": [],
   "source": []
  }
 ],
 "metadata": {
  "kernelspec": {
   "display_name": "Python 3",
   "language": "python",
   "name": "python3"
  },
  "language_info": {
   "codemirror_mode": {
    "name": "ipython",
    "version": 3
   },
   "file_extension": ".py",
   "mimetype": "text/x-python",
   "name": "python",
   "nbconvert_exporter": "python",
   "pygments_lexer": "ipython3",
   "version": "3.6.4"
  }
 },
 "nbformat": 4,
 "nbformat_minor": 2
}
