{
 "cells": [
  {
   "cell_type": "code",
   "execution_count": 2,
   "metadata": {},
   "outputs": [
    {
     "name": "stdout",
     "output_type": "stream",
     "text": [
      "1\n",
      "2\n",
      "3\n",
      "4\n"
     ]
    }
   ],
   "source": [
    "#队列\n",
    "class Queue(object):\n",
    "    def __init__(self):\n",
    "        self.__list=[]  #私有列表形式\n",
    "        \n",
    "    def enqueue(self,item):  #a队列尾部为进入\n",
    "        self.__list.append(item)\n",
    "    \n",
    "    def dequeue(self):\n",
    "        return self.__list.pop(0)\n",
    "       \n",
    "    def is_empty(self):\n",
    "        return self.__list==[] #用于判断列表是否为空\n",
    "        # return ont self.__list\n",
    "    \n",
    "    def size(self):\n",
    "        return len(self.__list)\n",
    "    \n",
    "s=Queue()\n",
    "s.enqueue(1)\n",
    "s.enqueue(2)\n",
    "s.enqueue(3)\n",
    "s.enqueue(4)\n",
    "print(s.dequeue())\n",
    "print(s.dequeue())\n",
    "print(s.dequeue())\n",
    "print(s.dequeue())"
   ]
  },
  {
   "cell_type": "code",
   "execution_count": null,
   "metadata": {},
   "outputs": [],
   "source": []
  }
 ],
 "metadata": {
  "kernelspec": {
   "display_name": "Python 3",
   "language": "python",
   "name": "python3"
  },
  "language_info": {
   "codemirror_mode": {
    "name": "ipython",
    "version": 3
   },
   "file_extension": ".py",
   "mimetype": "text/x-python",
   "name": "python",
   "nbconvert_exporter": "python",
   "pygments_lexer": "ipython3",
   "version": "3.6.4"
  }
 },
 "nbformat": 4,
 "nbformat_minor": 2
}
