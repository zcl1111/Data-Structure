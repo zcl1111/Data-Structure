{
 "cells": [
  {
   "cell_type": "code",
   "execution_count": null,
   "metadata": {},
   "outputs": [],
   "source": [
    "表的应用\n",
    "Josephus问题：\n",
    "假设有n个人围坐一圈，现在要求从第k个人开始报数，报到第m个数的人退出。\n",
    "然后从下一个人开始继续报数并按同样规则退出，直至所有人退出。要求按顺序输出各出列人的编号。"
   ]
  },
  {
   "cell_type": "code",
   "execution_count": null,
   "metadata": {},
   "outputs": [],
   "source": [
    "第一种方法：基于Python的list和固定大小的数组\n",
    "初始：\n",
    "    建立一个包含n个人（的编号）的表\n",
    "    找到第k个人（下标为k-1），从那里开始\n",
    "处理过程中采用把相应表元素改为0的方式表示已出列，反复做：\n",
    "    数m个（尚在座的）人，遇到表的末端就转回下标0继续   \n",
    "    把表示第m个人的表元素修改为0   list[i]=0\n",
    "n个人出列结束\n",
    "\n",
    "时间复杂度在于m和n，分析复杂"
   ]
  },
  {
   "cell_type": "code",
   "execution_count": 1,
   "metadata": {},
   "outputs": [
    {
     "name": "stdout",
     "output_type": "stream",
     "text": [
      "6, 10, 14, 18, 2, 7, 12, 17, 3, 9, 16, 4, 13, 1, 15, 8, 5, 11, 20, 19\n"
     ]
    }
   ],
   "source": [
    "def josephus_A(n,k,m):\n",
    "    people=list(range(1,n+1))\n",
    "    \n",
    "    i=k-1  #数组下标，初始值为k-1\n",
    "    for num in range(n):\n",
    "        count=0\n",
    "        while count<m:\n",
    "            if people[i]>0:\n",
    "                count+=1\n",
    "            if count==m:\n",
    "                print(people[i],end=\"\")\n",
    "                people[i]=0\n",
    "            i=(i+1) % n    #这个地方很巧妙，让i从0到n-1循环\n",
    "        if num<n-1:\n",
    "            print(\", \",end=\"\")\n",
    "        else:\n",
    "            print(\"\")\n",
    "    return\n",
    "\n",
    "if __name__ == \"__main__\":\n",
    "        josephus_A(20,3,4);\n",
    "            \n",
    "    "
   ]
  },
  {
   "cell_type": "code",
   "execution_count": null,
   "metadata": {},
   "outputs": [],
   "source": [
    "第二种方法：基于顺序表\n",
    "把保存人员编号的list按表的方式处理，\n",
    "一旦确定了应该退出的人，就将表示其编号的表元素从表中删除   list.pop(i)\n",
    "\n",
    "时间复杂度体现在pop()操作，需要线性时间，时间复杂度为O(n2)\n"
   ]
  },
  {
   "cell_type": "code",
   "execution_count": 6,
   "metadata": {},
   "outputs": [
    {
     "name": "stdout",
     "output_type": "stream",
     "text": [
      "6, 10, 14, 18, 2, 7, 12, 17, 3, 9, 16, 4, 13, 1, 15, 8, 5, 11, 20, 19\n"
     ]
    }
   ],
   "source": [
    "def josephus_L(n,k,m):\n",
    "    people=list(range(1,n+1))\n",
    "    \n",
    "    num,i = n ,k-1\n",
    "    for num in range(n,0,-1):\n",
    "        i=(i+m-1)% num  #num每循环一次减1\n",
    "        if num>1:\n",
    "            print(people.pop(i),end=\", \")\n",
    "        else :\n",
    "            print(people.pop(i))\n",
    "\n",
    "            \n",
    "if __name__ == \"__main__\":\n",
    "        josephus_L(20,3,4);"
   ]
  },
  {
   "cell_type": "code",
   "execution_count": 9,
   "metadata": {},
   "outputs": [
    {
     "data": {
      "text/plain": [
       "'第三种方法 基于循环单链表\\n    建立包含指定个数（和内容）的结点的循环单链表，可以通过从空表出发，在尾部逐个加入元素\\n    循环计数，找到并删除应该退出的结点\\n    \\n时间复杂度：初始建表为O(n),循环操作为O(m*n)'"
      ]
     },
     "execution_count": 9,
     "metadata": {},
     "output_type": "execute_result"
    }
   ],
   "source": [
    "'''第三种方法 基于循环单链表\n",
    "    建立包含指定个数（和内容）的结点的循环单链表，可以通过从空表出发，在尾部逐个加入元素\n",
    "    循环计数，找到并删除应该退出的结点\n",
    "    \n",
    "时间复杂度：初始建表为O(n),循环操作为O(m*n)'''"
   ]
  },
  {
   "cell_type": "code",
   "execution_count": 24,
   "metadata": {},
   "outputs": [
    {
     "name": "stdout",
     "output_type": "stream",
     "text": [
      "6, 10, 14, 18, 2, 7, 12, 17, 3, 9, 16, 4, 13, 1, 15, 8, 5, 11, 20, 19\n"
     ]
    }
   ],
   "source": [
    "class LinkedListUnderflow(ValueError):\n",
    "    pass\n",
    "\n",
    "class Node: \n",
    "    def __init__(self,elem):\n",
    "        self.elem=elem\n",
    "        self.next=None\n",
    "    \n",
    "\n",
    "class Josephus():          \n",
    "        \n",
    "    def is_empty(self):\n",
    "        #判断链表是否为空，头节点为None\n",
    "        return self._rear == None\n",
    "    \n",
    "    def prepend(self,elem):\n",
    "        p= Node(elem)\n",
    "        if self.is_empty():\n",
    "            p.next=p\n",
    "            self._rear=p\n",
    "        else:\n",
    "            p.next=self._rear.next\n",
    "            self._rear.next=p\n",
    "    \n",
    "    def append(self,elem):\n",
    "        #从链表尾端插入\n",
    "        self.prepend(elem)\n",
    "        self._rear=self._rear.next\n",
    "    \n",
    "    def pop(self):\n",
    "        if self._rear is None:\n",
    "            raise LinkedListUnderflow(\"in pop of CLList\")\n",
    "        p=self._rear.next\n",
    "        if self._rear is p:\n",
    "            self._rear=None\n",
    "        else:\n",
    "            self._rear.next=p.next\n",
    "        return p.elem\n",
    "    \n",
    "    def turn(self,m):\n",
    "        for i in range(m):\n",
    "            self._rear=self._rear.next\n",
    "        \n",
    "    def __init__(self,n,k,m):\n",
    "        self._rear=None\n",
    "        for i in range(n):\n",
    "            self.append(i+1)\n",
    "        self.turn(k-1)\n",
    "        while not self.is_empty():\n",
    "            self.turn(m-1)\n",
    "            print(self.pop(),end=(\"\\n\" if self.is_empty() else \", \"))\n",
    "\n",
    "            \n",
    "            \n",
    "obj=Josephus(20,3,4)     "
   ]
  },
  {
   "cell_type": "code",
   "execution_count": null,
   "metadata": {},
   "outputs": [],
   "source": []
  }
 ],
 "metadata": {
  "kernelspec": {
   "display_name": "Python 3",
   "language": "python",
   "name": "python3"
  },
  "language_info": {
   "codemirror_mode": {
    "name": "ipython",
    "version": 3
   },
   "file_extension": ".py",
   "mimetype": "text/x-python",
   "name": "python",
   "nbconvert_exporter": "python",
   "pygments_lexer": "ipython3",
   "version": "3.6.4"
  }
 },
 "nbformat": 4,
 "nbformat_minor": 2
}
