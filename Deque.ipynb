{
 "cells": [
  {
   "cell_type": "code",
   "execution_count": 2,
   "metadata": {},
   "outputs": [
    {
     "name": "stdout",
     "output_type": "stream",
     "text": [
      "4\n",
      "3\n",
      "8\n",
      "7\n"
     ]
    }
   ],
   "source": [
    "#双端队列\n",
    "class Deque(object):\n",
    "    def __init__(self):\n",
    "        self.__list=[]  #私有列表形式\n",
    "        \n",
    "    def add_front(self,item):  #a队列tou部为进入\n",
    "        self.__list.insert(0,item)\n",
    "    \n",
    "    def add_rear(self,item):  #a队列尾部为进入\n",
    "        self.__list.append(item)\n",
    "    \n",
    "    def remove_front(self):\n",
    "        return self.__list.pop(0)\n",
    "    \n",
    "    def remove_rear(self):\n",
    "        return self.__list.pop()\n",
    "    \n",
    "    def is_empty(self):\n",
    "        return self.__list==[] #用于判断列表是否为空\n",
    "        # return ont self.__list\n",
    "    \n",
    "    def size(self):\n",
    "        return len(self.__list)\n",
    "    \n",
    "s=Deque()\n",
    "s.add_front(1)\n",
    "s.add_front(2)\n",
    "s.add_front(3)\n",
    "s.add_front(4)\n",
    "s.add_rear(6)\n",
    "s.add_rear(7)\n",
    "s.add_rear(8)\n",
    "print(s.remove_front())\n",
    "print(s.remove_front())\n",
    "print(s.remove_rear())\n",
    "print(s.remove_rear())"
   ]
  },
  {
   "cell_type": "code",
   "execution_count": null,
   "metadata": {},
   "outputs": [],
   "source": []
  }
 ],
 "metadata": {
  "kernelspec": {
   "display_name": "Python 3",
   "language": "python",
   "name": "python3"
  },
  "language_info": {
   "codemirror_mode": {
    "name": "ipython",
    "version": 3
   },
   "file_extension": ".py",
   "mimetype": "text/x-python",
   "name": "python",
   "nbconvert_exporter": "python",
   "pygments_lexer": "ipython3",
   "version": "3.6.4"
  }
 },
 "nbformat": 4,
 "nbformat_minor": 2
}
