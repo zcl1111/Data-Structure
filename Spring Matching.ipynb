{
 "cells": [
  {
   "cell_type": "code",
   "execution_count": null,
   "metadata": {},
   "outputs": [],
   "source": [
    "朴素串匹配算法：（BF算法）\n",
    "t为长度为n的主串，p为长度为m的子串\n",
    "i为主串下标，j为子串下标,下标从0开始\n",
    "当t[i]==p[j]，i,j加1，直到j==m,找到匹配，返回其开始下标\n",
    "否则，i返回到上一次匹配首位的下一位，j返回到0从头开始\n",
    "'''（特点：i，j值不断回溯，遍历时间长）'''"
   ]
  },
  {
   "cell_type": "code",
   "execution_count": 12,
   "metadata": {},
   "outputs": [
    {
     "data": {
      "text/plain": [
       "4"
      ]
     },
     "execution_count": 12,
     "metadata": {},
     "output_type": "execute_result"
    }
   ],
   "source": [
    "def naive_matching(t,p):\n",
    "    i,j=0,0\n",
    "    while i<len(t) and j<len(p):\n",
    "        if t[i]==p[j]:\n",
    "            i,j=i+1,j+1\n",
    "        else :\n",
    "            i,j=i-j+1,0\n",
    "    if j==len(p):           #找到匹配，返回其开始下标\n",
    "        return i-j\n",
    "    return -1         #无匹配，返回特殊值\n",
    "\n",
    "\n",
    "naive_matching('goodgoole','goole')"
   ]
  },
  {
   "cell_type": "code",
   "execution_count": null,
   "metadata": {},
   "outputs": [],
   "source": [
    "KMP模式匹配算法：\n",
    "首先分析子串的前后缀相似度，来判断j值返回到哪里\n",
    "主串的i值不回溯"
   ]
  },
  {
   "cell_type": "code",
   "execution_count": 14,
   "metadata": {},
   "outputs": [
    {
     "data": {
      "text/plain": [
       "4"
      ]
     },
     "execution_count": 14,
     "metadata": {},
     "output_type": "execute_result"
    }
   ],
   "source": [
    "def get_pnext(p):\n",
    "    '''生成针对p中各位置j的下一检查位置表，即j回溯的位置'''\n",
    "    i,k,m=0,-1,len(p)\n",
    "    pnext=[-1]*m    #初始数组元素全为-1\n",
    "    while i<m-1:\n",
    "        if k==-1 or p[i]==p[k]:\n",
    "            i,k=i+1,k+1\n",
    "            pnext[i]=k\n",
    "        else:\n",
    "            k=pnext[k]\n",
    "    return pnext\n",
    "\n",
    "def gen_pnext(p):\n",
    "    '''改进优化的get_pnext(p)'''\n",
    "    i,k,m=0,-1,len(p)\n",
    "    pnext=[-1]*m    #初始数组元素全为-1\n",
    "    while i<m-1:\n",
    "        if k==-1 or p[i]==p[k]:\n",
    "            i,k=i+1,k+1\n",
    "            if p[i]==p[k]:\n",
    "                pnext[i]=pnext[k]\n",
    "            else:\n",
    "                pnext[i]=k\n",
    "        else:\n",
    "            k=pnext[k]\n",
    "    return pnext\n",
    "\n",
    "def matching_KMP(t,p,pnext):\n",
    "    '''KMP模式匹配算法主函数'''\n",
    "    i,j=0,0\n",
    "    n,m=len(t),len(p)\n",
    "    while i<n and j<m:\n",
    "        if j==-1 or t[i]==p[j]:\n",
    "            i,j=i+1,j+1\n",
    "        else:\n",
    "            j=pnext[j]\n",
    "    if j==m:\n",
    "        return i-j\n",
    "    return -1\n",
    "   \n",
    "    \n",
    "matching_KMP('goodgoole','goole',gen_pnext('goole'))"
   ]
  },
  {
   "cell_type": "code",
   "execution_count": null,
   "metadata": {},
   "outputs": [],
   "source": []
  }
 ],
 "metadata": {
  "kernelspec": {
   "display_name": "Python 3",
   "language": "python",
   "name": "python3"
  },
  "language_info": {
   "codemirror_mode": {
    "name": "ipython",
    "version": 3
   },
   "file_extension": ".py",
   "mimetype": "text/x-python",
   "name": "python",
   "nbconvert_exporter": "python",
   "pygments_lexer": "ipython3",
   "version": "3.6.4"
  }
 },
 "nbformat": 4,
 "nbformat_minor": 2
}
